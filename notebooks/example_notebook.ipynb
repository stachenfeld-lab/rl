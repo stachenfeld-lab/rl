{
 "cells": [
  {
   "cell_type": "code",
   "execution_count": null,
   "id": "initial_id",
   "metadata": {
    "collapsed": true,
    "jupyter": {
     "outputs_hidden": true
    }
   },
   "outputs": [],
   "source": [
    "# import\n",
    "\n",
    "import scipy.stats as stats\n",
    "import numpy as np\n",
    "\n",
    "# Given probabilities\n",
    "p1 = 0.01\n",
    "p2 = 0.97\n",
    "\n",
    "# Pooled proportion\n",
    "p_hat = (p1 + p2) / 2\n",
    "\n",
    "# Z-values for the confidence level and power\n",
    "alpha = 0.01\n",
    "beta = 0.20  # 1 - power (0.80 power)\n",
    "\n",
    "Z_alpha = stats.norm.ppf(1 - alpha / 2)\n",
    "Z_beta = stats.norm.ppf(1 - beta)\n",
    "\n",
    "# Sample size calculation formula\n",
    "n = ((Z_alpha * np.sqrt(2 * p_hat * (1 - p_hat)) + Z_beta * np.sqrt(p1 * (1 - p1) + p2 * (1 - p2))) / (p2 - p1))**2\n"
   ]
  }
 ],
 "metadata": {
  "kernelspec": {
   "display_name": "Python 3 (ipykernel)",
   "language": "python",
   "name": "python3"
  },
  "language_info": {
   "codemirror_mode": {
    "name": "ipython",
    "version": 3
   },
   "file_extension": ".py",
   "mimetype": "text/x-python",
   "name": "python",
   "nbconvert_exporter": "python",
   "pygments_lexer": "ipython3",
   "version": "3.11.9"
  }
 },
 "nbformat": 4,
 "nbformat_minor": 5
}
