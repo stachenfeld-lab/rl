{
 "cells": [
  {
   "cell_type": "markdown",
   "id": "2ab1a074-c6b8-459f-8327-003cf052fcd4",
   "metadata": {},
   "source": [
    "# Training for Generic RL agents in OpenAI Gym environments\n",
    "#### Stachenfeld lab \n",
    "##### update July 2024"
   ]
  },
  {
   "cell_type": "markdown",
   "id": "f6a9cd2e-ea90-42f5-b98e-b2a0d2a2ceb9",
   "metadata": {},
   "source": [
    "## Section 1: Imports"
   ]
  },
  {
   "cell_type": "code",
   "execution_count": null,
   "id": "531aaf63-9175-4b88-95de-1680d843941e",
   "metadata": {},
   "outputs": [],
   "source": [
    "############## generic imports ##################\n",
    "\n",
    "# Data manipulation and analysis\n",
    "import numpy as np  # Importing numpy for numerical operations and working with arrays.\n",
    "\n",
    "# Data visualization\n",
    "import matplotlib.pyplot as plt  # Importing matplotlib for plotting and data visualization.\n",
    "import seaborn as sns  # Importing seaborn for statistical data visualization.\n",
    "sns.set(color_codes=True)  # Setting color codes for seaborn plots.\n",
    "\n",
    "# Open AI gym for the environment\n",
    "import gymnasium as gym\n",
    "\n",
    "# Statistics and mathematical operations\n",
    "import scipy  # Importing scipy for scientific computing.\n",
    "from scipy import stats, integrate  # Importing stats and integrate modules from scipy.\n",
    "from scipy.stats import mode, pearsonr, ttest_rel  # Importing mode, Pearson's correlation, and t-test for related samples.\n",
    "\n",
    "# Other useful libraries\n",
    "from collections import defaultdict  # Importing defaultdict for creating dictionaries with default values.\n",
    "from copy import copy  # Importing copy function for creating shallow copies.\n",
    "import operator  # Importing operator module for standard operators as functions.\n",
    "\n",
    "# Plotting tools and settings\n",
    "import matplotlib.gridspec as gridspec  # Importing gridspec for creating grid layouts.\n",
    "import matplotlib.patches as mpatches  # Importing patches module for drawing shapes.\n",
    "from mpl_toolkits.mplot3d import Axes3D  # Importing 3D plotting tools.\n",
    "from matplotlib import cm  # Importing cm (colormaps) module."
   ]
  },
  {
   "cell_type": "code",
   "execution_count": null,
   "id": "46cac65a-0ed3-4013-bd1b-38eeb0119401",
   "metadata": {},
   "outputs": [],
   "source": [
    "############### import environment #####################\n",
    "\n",
    "env = gym.make('CartPole-v1')\n",
    "\n",
    "\n"
   ]
  },
  {
   "cell_type": "code",
   "execution_count": null,
   "id": "673972ec-df09-44e2-882e-5b362f1372cc",
   "metadata": {},
   "outputs": [],
   "source": [
    "############### import model ############################\n",
    "\n",
    "from agent_file import SarsaAgent  #  replace with the whatever agent \n",
    "agent = SarsaAgent(env, epsilon=0.1, step_size=0.1, discount_factor=0.99)\n"
   ]
  },
  {
   "cell_type": "code",
   "execution_count": null,
   "id": "1c2feb71-b14c-4295-8755-65d281c26fe1",
   "metadata": {},
   "outputs": [],
   "source": [
    "############### import algorithm #######################\n",
    "\n"
   ]
  },
  {
   "cell_type": "markdown",
   "id": "ad20de30-1c49-49cf-a0a1-844b541d56f4",
   "metadata": {},
   "source": [
    "## Section 2: Define Training Loop"
   ]
  },
  {
   "cell_type": "code",
   "execution_count": null,
   "id": "22616e19-2441-410a-be43-91a571466658",
   "metadata": {},
   "outputs": [],
   "source": [
    "def train_model (task_environment, model, algorithm, num_episodes):\n",
    "    #loop over episodes \n",
    "        # observe one state of environment \n",
    "        # pass it to model\n",
    "        # model makes choice via algorithm \n",
    "        # algorithm determines loss \n",
    "        # model update "
   ]
  },
  {
   "cell_type": "code",
   "execution_count": null,
   "id": "c135383a-a5d7-4f1e-b4c7-9db3345be1e8",
   "metadata": {},
   "outputs": [],
   "source": [
    "### an example? sepcific to sarsa tryina figure out how to generalize \n",
    "\n",
    "num_episodes = 10\n",
    "\n",
    "for episode in range(num_episodes):\n",
    "    state, action = agent.initialize_episode(env)\n",
    "    done = False\n",
    "\n",
    "    while not done:\n",
    "        next_state, reward, done, _, _ = env.step(action)\n",
    "        next_action = agent.select_action(next_state)\n",
    "        agent.update(state, action, reward, next_state, next_action)\n",
    "        state, action = next_state, next_action\n",
    "\n",
    "    print(f\"Episode {episode + 1} completed.\")\n",
    "\n",
    "# Optionally save the Q-values or agent state\n",
    "np.save('q_values.npy', agent.q_values)"
   ]
  },
  {
   "cell_type": "markdown",
   "id": "8f08e841-1ad5-4480-ab6a-ed1079d5b80a",
   "metadata": {},
   "source": [
    "## Section 3: Visualization"
   ]
  },
  {
   "cell_type": "code",
   "execution_count": null,
   "id": "c75569f0-b4ee-4181-b0d8-4fe8bf9e64d1",
   "metadata": {},
   "outputs": [],
   "source": [
    "# plot something ? maybe loss over time "
   ]
  }
 ],
 "metadata": {
  "kernelspec": {
   "display_name": "Python 3 (ipykernel)",
   "language": "python",
   "name": "python3"
  },
  "language_info": {
   "codemirror_mode": {
    "name": "ipython",
    "version": 3
   },
   "file_extension": ".py",
   "mimetype": "text/x-python",
   "name": "python",
   "nbconvert_exporter": "python",
   "pygments_lexer": "ipython3",
   "version": "3.11.9"
  }
 },
 "nbformat": 4,
 "nbformat_minor": 5
}
